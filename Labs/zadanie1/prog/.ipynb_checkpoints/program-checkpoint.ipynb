{
 "cells": [
  {
   "cell_type": "markdown",
   "metadata": {},
   "source": [
    "# <u>Algorytm Molera-Morissona</u>"
   ]
  },
  {
   "cell_type": "markdown",
   "metadata": {},
   "source": [
    "## Implementacja algorytmu"
   ]
  },
  {
   "cell_type": "markdown",
   "metadata": {},
   "source": [
    "### Implementacja pojedynczej iteracji"
   ]
  },
  {
   "cell_type": "code",
   "execution_count": 862,
   "metadata": {},
   "outputs": [
    {
     "data": {
      "text/plain": [
       "moler_morisson (generic function with 1 method)"
      ]
     },
     "execution_count": 862,
     "metadata": {},
     "output_type": "execute_result"
    }
   ],
   "source": [
    "function moler_morisson(p, q)\n",
    "    \n",
    "    r = (q/p)^2\n",
    "    s = r/(4 + r)\n",
    "    p = p + 2*s*p\n",
    "    q = s*q\n",
    "    \n",
    "    return p, q\n",
    "end"
   ]
  },
  {
   "cell_type": "markdown",
   "metadata": {},
   "source": [
    "### Implementacja dowolnej liczby iteracji"
   ]
  },
  {
   "cell_type": "code",
   "execution_count": 864,
   "metadata": {},
   "outputs": [
    {
     "data": {
      "text/plain": [
       "moler_morisson_iterable (generic function with 1 method)"
      ]
     },
     "execution_count": 864,
     "metadata": {},
     "output_type": "execute_result"
    }
   ],
   "source": [
    "function moler_morisson_iterable(a, b, k)\n",
    "    a = abs(a)\n",
    "    b = abs(b)\n",
    "    p = max(a, b)\n",
    "    q = min(a,b)\n",
    "    \n",
    "    for i in 1:k\n",
    "        p, q = moler_morisson(p, q)\n",
    "        println(p)\n",
    "    end\n",
    "end"
   ]
  },
  {
   "cell_type": "markdown",
   "metadata": {},
   "source": [
    "#### przykładowe użycie na liczbach 3, 4, 5 ze standardową precyzją (Float64):"
   ]
  },
  {
   "cell_type": "code",
   "execution_count": 865,
   "metadata": {},
   "outputs": [
    {
     "name": "stdout",
     "output_type": "stream",
     "text": [
      "4.986301369863014\n",
      "4.999999974188253\n",
      "5.000000000000001\n",
      "5.000000000000001\n",
      "5.000000000000001\n"
     ]
    }
   ],
   "source": [
    "moler_morisson_iterable(3, 4, 5)"
   ]
  },
  {
   "cell_type": "markdown",
   "metadata": {},
   "source": [
    "## Analiza algorytmu"
   ]
  },
  {
   "cell_type": "markdown",
   "metadata": {},
   "source": [
    "#### Ustawienie precyzji arytmetyki"
   ]
  },
  {
   "cell_type": "markdown",
   "metadata": {},
   "source": [
    "### Testy algorytmu"
   ]
  },
  {
   "cell_type": "markdown",
   "metadata": {},
   "source": [
    "#### Dane: pary (3, 4), (-5, 12), (7, -24), (1, 1), (1000000000, 2), (71075075103, 1000000000) liczba iteracji: 3"
   ]
  },
  {
   "cell_type": "markdown",
   "metadata": {},
   "source": [
    "#### (3, 4)"
   ]
  },
  {
   "cell_type": "code",
   "execution_count": 867,
   "metadata": {},
   "outputs": [
    {
     "name": "stdout",
     "output_type": "stream",
     "text": [
      "4.986301369863014\n",
      "4.999999974188253\n",
      "5.000000000000001\n"
     ]
    }
   ],
   "source": [
    "moler_morisson_iterable(3, 4, 3)"
   ]
  },
  {
   "cell_type": "code",
   "execution_count": 868,
   "metadata": {},
   "outputs": [
    {
     "name": "stdout",
     "output_type": "stream",
     "text": [
      "4.986301369863013698630136986301369863002\n",
      "4.999999974188252149492661061886530575595\n",
      "4.999999999999999999999999828030176654495\n"
     ]
    }
   ],
   "source": [
    "moler_morisson_iterable(BigFloat(3), BigFloat(4), 3)"
   ]
  },
  {
   "cell_type": "markdown",
   "metadata": {},
   "source": [
    "#### (-5, 12)"
   ]
  },
  {
   "cell_type": "code",
   "execution_count": 869,
   "metadata": {},
   "outputs": [
    {
     "name": "stdout",
     "output_type": "stream",
     "text": [
      "12.998336106489186\n",
      "12.999999999993186\n",
      "13.000000000000002\n"
     ]
    }
   ],
   "source": [
    "moler_morisson_iterable(-5, 12, 3)"
   ]
  },
  {
   "cell_type": "code",
   "execution_count": 870,
   "metadata": {},
   "outputs": [
    {
     "name": "stdout",
     "output_type": "stream",
     "text": [
      "1.299833610648918469217970049916805324457e+01\n",
      "1.29999999999931842560000017867063951355e+01\n",
      "1.299999999999999999999999999999999999948e+01\n"
     ]
    }
   ],
   "source": [
    "moler_morisson_iterable(BigFloat(-5), BigFloat(12), 3)"
   ]
  },
  {
   "cell_type": "markdown",
   "metadata": {},
   "source": [
    "#### (7, -24)"
   ]
  },
  {
   "cell_type": "code",
   "execution_count": 871,
   "metadata": {},
   "outputs": [
    {
     "name": "stdout",
     "output_type": "stream",
     "text": [
      "24.999575010624735\n",
      "24.99999999999997\n",
      "25.000000000000004\n"
     ]
    }
   ],
   "source": [
    "moler_morisson_iterable(7, -24, 3)"
   ]
  },
  {
   "cell_type": "code",
   "execution_count": 872,
   "metadata": {},
   "outputs": [
    {
     "name": "stdout",
     "output_type": "stream",
     "text": [
      "2.499957501062473438164045898852528686783e+01\n",
      "2.499999999999996929526990921773880960337e+01\n",
      "2.500000000000000000000000000000000000000e+01\n"
     ]
    }
   ],
   "source": [
    "moler_morisson_iterable(BigFloat(7), BigFloat(-24), 3)"
   ]
  },
  {
   "cell_type": "markdown",
   "metadata": {},
   "source": [
    "#### (1, 1)"
   ]
  },
  {
   "cell_type": "code",
   "execution_count": 873,
   "metadata": {},
   "outputs": [
    {
     "name": "stdout",
     "output_type": "stream",
     "text": [
      "1.4\n",
      "1.4142131979695431\n",
      "1.4142135623730951\n"
     ]
    }
   ],
   "source": [
    "moler_morisson_iterable(1, 1, 3)"
   ]
  },
  {
   "cell_type": "code",
   "execution_count": 874,
   "metadata": {},
   "outputs": [
    {
     "name": "stdout",
     "output_type": "stream",
     "text": [
      "1.399999999999999999999999999999999999999\n",
      "1.414213197969543147208121827411167512687\n",
      "1.41421356237309504879564008075425994635\n"
     ]
    }
   ],
   "source": [
    "moler_morisson_iterable(BigFloat(1), BigFloat(1), 3)"
   ]
  },
  {
   "cell_type": "markdown",
   "metadata": {},
   "source": [
    "#### (1000000000, 2)"
   ]
  },
  {
   "cell_type": "code",
   "execution_count": 875,
   "metadata": {},
   "outputs": [
    {
     "name": "stdout",
     "output_type": "stream",
     "text": [
      "1.0e9\n",
      "1.0e9\n",
      "1.0e9\n"
     ]
    }
   ],
   "source": [
    "moler_morisson_iterable(1000000000, 2, 3)"
   ]
  },
  {
   "cell_type": "code",
   "execution_count": 876,
   "metadata": {},
   "outputs": [
    {
     "name": "stdout",
     "output_type": "stream",
     "text": [
      "1.000000000000000001999999999999999998001e+09\n",
      "1.000000000000000001999999999999999998001e+09\n",
      "1.000000000000000001999999999999999998001e+09\n"
     ]
    }
   ],
   "source": [
    "moler_morisson_iterable(BigFloat(1000000000), BigFloat(2), 3)"
   ]
  },
  {
   "cell_type": "markdown",
   "metadata": {},
   "source": [
    "#### (71075075103, 1000000000)"
   ]
  },
  {
   "cell_type": "code",
   "execution_count": 877,
   "metadata": {},
   "outputs": [
    {
     "name": "stdout",
     "output_type": "stream",
     "text": [
      "7.108210956981117e10\n",
      "7.10821095698284e10\n",
      "7.10821095698284e10\n"
     ]
    }
   ],
   "source": [
    "moler_morisson_iterable(71075075103, 1000000000, 3)"
   ]
  },
  {
   "cell_type": "code",
   "execution_count": 878,
   "metadata": {
    "scrolled": true
   },
   "outputs": [
    {
     "name": "stdout",
     "output_type": "stream",
     "text": [
      "7.108210956981117607726957458289901508523e+10\n",
      "7.108210956982840179871838428090505048092e+10\n",
      "7.108210956982840179871838428090505048132e+10\n"
     ]
    }
   ],
   "source": [
    "moler_morisson_iterable(BigFloat(71075075103), BigFloat(1000000000), 3)"
   ]
  },
  {
   "cell_type": "markdown",
   "metadata": {},
   "source": [
    "### Funkcja obliczająca umownie dokładny pierwiastek sumy kwadratów"
   ]
  },
  {
   "cell_type": "code",
   "execution_count": 880,
   "metadata": {},
   "outputs": [
    {
     "data": {
      "text/plain": [
       "exact_result (generic function with 1 method)"
      ]
     },
     "execution_count": 880,
     "metadata": {},
     "output_type": "execute_result"
    }
   ],
   "source": [
    "function exact_result(a, b)\n",
    "    println(sqrt((BigFloat(a))^2 + (BigFloat(b))^2))\n",
    "end"
   ]
  },
  {
   "cell_type": "markdown",
   "metadata": {},
   "source": [
    "### Dokładne wartości funkcji"
   ]
  },
  {
   "cell_type": "code",
   "execution_count": 881,
   "metadata": {},
   "outputs": [
    {
     "name": "stdout",
     "output_type": "stream",
     "text": [
      "5.000000000000000000000000000000000000000\n",
      "1.300000000000000000000000000000000000000e+01\n",
      "2.500000000000000000000000000000000000000e+01\n",
      "1.414213562373095048801688724209698078569\n",
      "1.000000000000000001999999999999999998001e+09\n",
      "7.108210956982840179871838428090505048092e+10\n"
     ]
    }
   ],
   "source": [
    "exact_result(3, 4)\n",
    "exact_result(-5, 12)\n",
    "exact_result(7, -24)\n",
    "exact_result(1, 1)\n",
    "exact_result(1000000000, 2)\n",
    "exact_result(71075075103, 1000000000)"
   ]
  },
  {
   "cell_type": "markdown",
   "metadata": {},
   "source": [
    "### Funkcja obliczająca błąd względny (wynik algorytmu do wyniku dokładnego)"
   ]
  },
  {
   "cell_type": "code",
   "execution_count": 882,
   "metadata": {},
   "outputs": [
    {
     "data": {
      "text/plain": [
       "relative_error (generic function with 1 method)"
      ]
     },
     "execution_count": 882,
     "metadata": {},
     "output_type": "execute_result"
    }
   ],
   "source": [
    "function relative_error(incorrect, exact)\n",
    "    println(abs(BigFloat(incorrect) - exact) / exact)\n",
    "end"
   ]
  },
  {
   "cell_type": "markdown",
   "metadata": {},
   "source": [
    "### Błędy względne"
   ]
  },
  {
   "cell_type": "markdown",
   "metadata": {},
   "source": [
    "#### Float64"
   ]
  },
  {
   "cell_type": "code",
   "execution_count": 885,
   "metadata": {},
   "outputs": [
    {
     "name": "stdout",
     "output_type": "stream",
     "text": [
      "1.776356839400250464677810668945312500001e-16\n",
      "1.366428338000192665136777437650240384618e-16\n",
      "1.421085471520200371742248535156250000001e-16\n",
      "0.000000000000000000000000000000000000000\n",
      "0.000000000000000000000000000000000000000\n",
      "0.000000000000000000000000000000000000000\n"
     ]
    }
   ],
   "source": [
    "relative_error(5.000000000000001, 5.0000000000000000000000000000000)\n",
    "relative_error(13.000000000000002, 1.300000000000000000000000000000000000000e+01)\n",
    "relative_error(25.000000000000004, 2.500000000000000000000000000000000000000e+01)\n",
    "relative_error(1.4142135623730951, 1.414213562373095048801688724209698078569)\n",
    "relative_error(1.0e9, 1.000000000000000001999999999999999998001e+09)\n",
    "relative_error(7.10821095698284e10, 7.108210956982840179871838428090505048092e+10)"
   ]
  },
  {
   "cell_type": "markdown",
   "metadata": {},
   "source": [
    "#### BigFloat(128)"
   ]
  },
  {
   "cell_type": "code",
   "execution_count": 886,
   "metadata": {},
   "outputs": [
    {
     "name": "stdout",
     "output_type": "stream",
     "text": [
      "0.000000000000000000000000000000000000000\n",
      "0.000000000000000000000000000000000000000\n",
      "0.000000000000000000000000000000000000000\n",
      "0.000000000000000000000000000000000000000\n",
      "0.000000000000000000000000000000000000000\n",
      "0.000000000000000000000000000000000000000\n"
     ]
    }
   ],
   "source": [
    "relative_error(4.999999999999999999999999828030176654495, 5.0000000000000000000000000000000)\n",
    "relative_error(1.299999999999999999999999999999999999948e+01, 1.300000000000000000000000000000000000000e+01)\n",
    "relative_error(2.500000000000000000000000000000000000000e+01, 2.500000000000000000000000000000000000000e+01)\n",
    "relative_error(1.41421356237309504879564008075425994635, 1.414213562373095048801688724209698078569)\n",
    "relative_error(1.000000000000000001999999999999999998001e+09, 1.000000000000000001999999999999999998001e+09)\n",
    "relative_error(7.108210956982840179871838428090505048132e+10, 7.108210956982840179871838428090505048092e+10)\n"
   ]
  }
 ],
 "metadata": {
  "kernelspec": {
   "display_name": "Julia 0.4.5",
   "language": "julia",
   "name": "julia-0.4"
  },
  "language_info": {
   "file_extension": ".jl",
   "mimetype": "application/julia",
   "name": "julia",
   "version": "0.4.5"
  }
 },
 "nbformat": 4,
 "nbformat_minor": 2
}
