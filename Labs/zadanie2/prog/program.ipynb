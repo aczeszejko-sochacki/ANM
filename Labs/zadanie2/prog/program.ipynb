{
 "cells": [
  {
   "cell_type": "markdown",
   "metadata": {},
   "source": [
    "\n",
    "# Pracownia nr 2"
   ]
  },
  {
   "cell_type": "code",
   "execution_count": 81,
   "metadata": {
    "collapsed": true
   },
   "outputs": [],
   "source": [
    "using Polynomials"
   ]
  },
  {
   "cell_type": "markdown",
   "metadata": {},
   "source": [
    "## Korzystanie ze wzoru na przybliżoną wartość pochodnej"
   ]
  },
  {
   "cell_type": "markdown",
   "metadata": {},
   "source": [
    "### Znajdowanie najmniejszego przedziału między węzłami, do którego należy x"
   ]
  },
  {
   "cell_type": "code",
   "execution_count": 82,
   "metadata": {
    "collapsed": true
   },
   "outputs": [],
   "source": [
    "function search_bounds(x_p, x_k, x, nodes)\n",
    "    if x_p + 1 == x_k\n",
    "        return nodes[x_p], nodes[x_k]\n",
    "    else\n",
    "        if x > nodes[div((x_p + x_k), 2)]\n",
    "            search_bounds(div((x_p + x_k), 2), x_k, x, nodes)\n",
    "        else\n",
    "            search_bounds(x_p, div((x_p + x_k), 2), x, nodes)\n",
    "        end\n",
    "    end\n",
    "end;      "
   ]
  },
  {
   "cell_type": "code",
   "execution_count": 83,
   "metadata": {
    "scrolled": true
   },
   "outputs": [
    {
     "data": {
      "text/plain": [
       "(1, 2)"
      ]
     },
     "execution_count": 83,
     "metadata": {},
     "output_type": "execute_result"
    }
   ],
   "source": [
    "search_bounds(1, 3, 1.3, [1, 2, 3])"
   ]
  },
  {
   "cell_type": "markdown",
   "metadata": {},
   "source": [
    "### Wzór na przybliżoną wartość pochodnej dla x z przedziału (x_p, x_k)"
   ]
  },
  {
   "cell_type": "code",
   "execution_count": 84,
   "metadata": {
    "collapsed": true
   },
   "outputs": [],
   "source": [
    "function approx_derivate(f, nodes, x)\n",
    "    interval = search_bounds(1, length(nodes), x, nodes)\n",
    "    x_p = BigFloat(interval[1])\n",
    "    x_k = BigFloat(interval[2])\n",
    "    \n",
    "    return Float64((f(x_k) - f(x_p)) / (x_k - x_p))\n",
    "end;"
   ]
  },
  {
   "cell_type": "code",
   "execution_count": 85,
   "metadata": {},
   "outputs": [
    {
     "data": {
      "text/html": [
       "5.0"
      ],
      "text/plain": [
       "5.0"
      ]
     },
     "execution_count": 85,
     "metadata": {},
     "output_type": "execute_result"
    }
   ],
   "source": [
    "approx_derivate(x -> x^2, [1, 2, 3], 2.5)"
   ]
  },
  {
   "cell_type": "markdown",
   "metadata": {},
   "source": [
    "## Pochodna wielomianu interpolacyjnego w postaci Newtona"
   ]
  },
  {
   "cell_type": "markdown",
   "metadata": {},
   "source": [
    "### wyliczanie kolejnych ilorazów różnicowych"
   ]
  },
  {
   "cell_type": "code",
   "execution_count": 86,
   "metadata": {
    "collapsed": true
   },
   "outputs": [],
   "source": [
    "function coefs(nodes, f) \n",
    "    all_coefs = [];\n",
    "    \n",
    "    quots = map(f, nodes)\n",
    "    push!(all_coefs, quots[1])\n",
    "    \n",
    "    len = length(nodes)\n",
    "    for i = 1:(len-1)\n",
    "        for j = 1:(len-i)\n",
    "           quots[j] = (quots[j+1] - quots[j] ) / (nodes[j+i] - nodes[j])\n",
    "        end\n",
    "        push!(all_coefs, quots[1])\n",
    "    end\n",
    "    \n",
    "    return all_coefs\n",
    "end;"
   ]
  },
  {
   "cell_type": "code",
   "execution_count": 87,
   "metadata": {},
   "outputs": [
    {
     "data": {
      "text/plain": [
       "3-element Array{Any,1}:\n",
       " 1\n",
       " 3\n",
       " 1"
      ]
     },
     "execution_count": 87,
     "metadata": {},
     "output_type": "execute_result"
    }
   ],
   "source": [
    "coefs([1, 2, 3], x -> x^2)"
   ]
  },
  {
   "cell_type": "markdown",
   "metadata": {},
   "source": [
    "### wyliczenie wielomianu interpolacyjnego Newtona na podstawie węzłów"
   ]
  },
  {
   "cell_type": "code",
   "execution_count": 88,
   "metadata": {
    "collapsed": true
   },
   "outputs": [],
   "source": [
    "function newton_interpolation(nodes, f)\n",
    "    nodes_number = length(nodes)\n",
    "    all_coefs = coefs(nodes, f)\n",
    "    \n",
    "    newton = Poly([all_coefs[1]])\n",
    "    actual_poly = Poly([1])\n",
    "    for i in 2:nodes_number\n",
    "        actual_poly *= Poly([-nodes[i-1], 1])\n",
    "        newton += actual_poly * all_coefs[i] \n",
    "    end\n",
    "    \n",
    "    return newton\n",
    "end;"
   ]
  },
  {
   "cell_type": "code",
   "execution_count": 89,
   "metadata": {},
   "outputs": [
    {
     "data": {
      "text/html": [
       "&#45;0.06235931799348837 &#43; 1.3218322331931847&#8729;x &#45; 0.41800193039179984&#8729;x^2"
      ],
      "text/plain": [
       "Poly(-0.06235931799348837 + 1.3218322331931847*x - 0.41800193039179984*x^2)"
      ]
     },
     "execution_count": 89,
     "metadata": {},
     "output_type": "execute_result"
    }
   ],
   "source": [
    "w = newton_interpolation([1, 2, 3], x -> sin(x))"
   ]
  },
  {
   "cell_type": "code",
   "execution_count": 90,
   "metadata": {},
   "outputs": [
    {
     "data": {
      "text/html": [
       "-0.0352145767743442"
      ],
      "text/plain": [
       "-0.0352145767743442"
      ]
     },
     "execution_count": 90,
     "metadata": {},
     "output_type": "execute_result"
    }
   ],
   "source": [
    "polyval(w, pi)"
   ]
  },
  {
   "cell_type": "markdown",
   "metadata": {},
   "source": [
    "### wyliczenie pochodnej w punkcie"
   ]
  },
  {
   "cell_type": "code",
   "execution_count": 91,
   "metadata": {
    "collapsed": true
   },
   "outputs": [],
   "source": [
    "function newton_derivate(f, nodes, point)\n",
    "    return Float64(polyval(polyder(newton_interpolation(nodes, f)), BigFloat(point)))\n",
    "end;"
   ]
  },
  {
   "cell_type": "code",
   "execution_count": 92,
   "metadata": {},
   "outputs": [
    {
     "data": {
      "text/html": [
       "1.3117165864777032"
      ],
      "text/plain": [
       "1.3117165864777032"
      ]
     },
     "execution_count": 92,
     "metadata": {},
     "output_type": "execute_result"
    }
   ],
   "source": [
    "newton_derivate(x -> sin(x), [1, 2, 3], 0.0121)"
   ]
  },
  {
   "cell_type": "code",
   "execution_count": 93,
   "metadata": {},
   "outputs": [
    {
     "data": {
      "text/html": [
       "0.7765749815709618"
      ],
      "text/plain": [
       "0.7765749815709618"
      ]
     },
     "execution_count": 93,
     "metadata": {},
     "output_type": "execute_result"
    }
   ],
   "source": [
    "newton_derivate(x->log(x), [1, 2, 3], 1.21)"
   ]
  },
  {
   "cell_type": "markdown",
   "metadata": {},
   "source": [
    "## Testowanie metod dla róznego doboru węzłów"
   ]
  },
  {
   "cell_type": "markdown",
   "metadata": {},
   "source": [
    "#### Węzły równoodległe na przedziale (0, 10), liczba węzłów: 6, odległość między węzłami: 2"
   ]
  },
  {
   "cell_type": "code",
   "execution_count": 94,
   "metadata": {
    "collapsed": true
   },
   "outputs": [],
   "source": [
    "nodes_2 = linspace(BigFloat(0), BigFloat(10), 6);"
   ]
  },
  {
   "cell_type": "markdown",
   "metadata": {},
   "source": [
    "#### Węzły równoodległe na przedziale (0, 10), liczba węzłów: 11, odległość między węzłami: 1"
   ]
  },
  {
   "cell_type": "code",
   "execution_count": 95,
   "metadata": {
    "collapsed": true
   },
   "outputs": [],
   "source": [
    "nodes_1 = linspace(BigFloat(0), BigFloat(10), 11);"
   ]
  },
  {
   "cell_type": "markdown",
   "metadata": {},
   "source": [
    "#### Węzły równoodległe na przedziale (0, 10), liczba węzłów: 101, odległość między węzłami: 0.1"
   ]
  },
  {
   "cell_type": "code",
   "execution_count": 96,
   "metadata": {
    "collapsed": true
   },
   "outputs": [],
   "source": [
    "nodes_01 = linspace(BigFloat(0), BigFloat(10), 101);"
   ]
  },
  {
   "cell_type": "markdown",
   "metadata": {},
   "source": [
    "#### Węzły równoodległe na przedziale (0.01, 10), liczba węzłów: 1000, odległość między węzłami: 0.01"
   ]
  },
  {
   "cell_type": "code",
   "execution_count": 97,
   "metadata": {
    "collapsed": true
   },
   "outputs": [],
   "source": [
    "nodes_001 = linspace(BigFloat(0.01), BigFloat(10), 1000);"
   ]
  },
  {
   "cell_type": "markdown",
   "metadata": {},
   "source": [
    "### testowanie dla różych węzłów"
   ]
  },
  {
   "cell_type": "code",
   "execution_count": 98,
   "metadata": {
    "collapsed": true
   },
   "outputs": [],
   "source": [
    "function test_nodes(f, nodes1, nodes2, nodes3, x)\n",
    "    return [approx_derivate(f, nodes1, x) approx_derivate(f, nodes2, x) approx_derivate(f, nodes3, x) newton_derivate(f, nodes1, x) newton_derivate(f, nodes2, x) newton_derivate(f, nodes3, x)]\n",
    "end;"
   ]
  },
  {
   "cell_type": "code",
   "execution_count": 99,
   "metadata": {
    "collapsed": true
   },
   "outputs": [],
   "source": [
    "function relative_errors(p, f, nodes1, nodes2, nodes3, x)\n",
    "    return map(y -> abs((y - p(x)) / p(x)), [approx_derivate(f, nodes1, x) approx_derivate(f, nodes2, x) approx_derivate(f, nodes3, x) newton_derivate(f, nodes1, x) newton_derivate(f, nodes2, x) newton_derivate(f, nodes3, x)])    \n",
    "end;"
   ]
  },
  {
   "cell_type": "markdown",
   "metadata": {},
   "source": [
    "#### dla funkcji f(x) = sin(x), w punktach 𝛑, 6.12, 1.1"
   ]
  },
  {
   "cell_type": "markdown",
   "metadata": {},
   "source": [
    "##### 𝛑"
   ]
  },
  {
   "cell_type": "code",
   "execution_count": 100,
   "metadata": {},
   "outputs": [
    {
     "data": {
      "text/plain": [
       "1×6 Array{Float64,2}:\n",
       " -0.83305  -0.897923  -0.999548  -0.866058  -1.00005  -1.0"
      ]
     },
     "execution_count": 100,
     "metadata": {},
     "output_type": "execute_result"
    }
   ],
   "source": [
    "test_nodes(x -> sin(x), nodes_2, nodes_1, nodes_01, pi)"
   ]
  },
  {
   "cell_type": "code",
   "execution_count": 101,
   "metadata": {},
   "outputs": [
    {
     "data": {
      "text/html": [
       "-1.0"
      ],
      "text/plain": [
       "-1.0"
      ]
     },
     "execution_count": 101,
     "metadata": {},
     "output_type": "execute_result"
    }
   ],
   "source": [
    "cos(pi)      # wartość dokładna"
   ]
  },
  {
   "cell_type": "code",
   "execution_count": 102,
   "metadata": {},
   "outputs": [
    {
     "data": {
      "text/plain": [
       "1×6 Array{Float64,2}:\n",
       " 0.16695  0.102077  0.000451941  0.133942  5.35236e-5  0.0"
      ]
     },
     "execution_count": 102,
     "metadata": {},
     "output_type": "execute_result"
    }
   ],
   "source": [
    "relative_errors(x -> cos(x), x -> sin(x), nodes_2, nodes_1, nodes_01, pi)"
   ]
  },
  {
   "cell_type": "markdown",
   "metadata": {},
   "source": [
    "##### 6.12"
   ]
  },
  {
   "cell_type": "code",
   "execution_count": 103,
   "metadata": {},
   "outputs": [
    {
     "data": {
      "text/plain": [
       "1×6 Array{Float64,2}:\n",
       " 0.634387  0.936402  0.990731  0.732653  0.986834  0.986715"
      ]
     },
     "execution_count": 103,
     "metadata": {},
     "output_type": "execute_result"
    }
   ],
   "source": [
    "test_nodes(x -> sin(x), nodes_2, nodes_1, nodes_01, 6.12)"
   ]
  },
  {
   "cell_type": "code",
   "execution_count": 104,
   "metadata": {},
   "outputs": [
    {
     "data": {
      "text/html": [
       "0.9867147985168921"
      ],
      "text/plain": [
       "0.9867147985168921"
      ]
     },
     "execution_count": 104,
     "metadata": {},
     "output_type": "execute_result"
    }
   ],
   "source": [
    "cos(6.12)      # wartość dokładna"
   ]
  },
  {
   "cell_type": "code",
   "execution_count": 105,
   "metadata": {},
   "outputs": [
    {
     "data": {
      "text/plain": [
       "1×6 Array{Float64,2}:\n",
       " 0.357072  0.0509901  0.00407029  0.257483  0.000121247  0.0"
      ]
     },
     "execution_count": 105,
     "metadata": {},
     "output_type": "execute_result"
    }
   ],
   "source": [
    "relative_errors(x -> cos(x), x-> sin(x), nodes_2, nodes_1, nodes_01, 6.12)"
   ]
  },
  {
   "cell_type": "markdown",
   "metadata": {},
   "source": [
    "#### 9.9"
   ]
  },
  {
   "cell_type": "code",
   "execution_count": 106,
   "metadata": {},
   "outputs": [
    {
     "data": {
      "text/plain": [
       "1×6 Array{Float64,2}:\n",
       " -0.76669  -0.95614  -0.864852  -1.83211  -0.869791  -0.889191"
      ]
     },
     "execution_count": 106,
     "metadata": {},
     "output_type": "execute_result"
    }
   ],
   "source": [
    "test_nodes(x -> sin(x), nodes_2, nodes_1, nodes_01, 9.9)"
   ]
  },
  {
   "cell_type": "code",
   "execution_count": 107,
   "metadata": {},
   "outputs": [
    {
     "data": {
      "text/html": [
       "0.4535961214255773"
      ],
      "text/plain": [
       "0.4535961214255773"
      ]
     },
     "execution_count": 107,
     "metadata": {},
     "output_type": "execute_result"
    }
   ],
   "source": [
    "cos(1.1)"
   ]
  },
  {
   "cell_type": "code",
   "execution_count": 108,
   "metadata": {},
   "outputs": [
    {
     "data": {
      "text/plain": [
       "1×6 Array{Float64,2}:\n",
       " 0.137767  0.0752914  0.027372  1.06043  0.0218174  0.0"
      ]
     },
     "execution_count": 108,
     "metadata": {},
     "output_type": "execute_result"
    }
   ],
   "source": [
    "relative_errors(x -> cos(x), x -> sin(x), nodes_2, nodes_1, nodes_01, 9.9)"
   ]
  },
  {
   "cell_type": "markdown",
   "metadata": {},
   "source": [
    "#### dla funkcji f(x) = exp(x), w punktach 1.2, 𝛑, 30"
   ]
  },
  {
   "cell_type": "markdown",
   "metadata": {},
   "source": [
    "#### 1.2"
   ]
  },
  {
   "cell_type": "code",
   "execution_count": 109,
   "metadata": {},
   "outputs": [
    {
     "data": {
      "text/plain": [
       "1×6 Array{Float64,2}:\n",
       " 3.19453  4.67077  3.15951  -225.744  3.84198  3.32012"
      ]
     },
     "execution_count": 109,
     "metadata": {},
     "output_type": "execute_result"
    }
   ],
   "source": [
    "test_nodes(x -> exp(x), nodes_2, nodes_1, nodes_01, 1.2)"
   ]
  },
  {
   "cell_type": "code",
   "execution_count": 110,
   "metadata": {},
   "outputs": [
    {
     "data": {
      "text/html": [
       "3.3201169227365472"
      ],
      "text/plain": [
       "3.3201169227365472"
      ]
     },
     "execution_count": 110,
     "metadata": {},
     "output_type": "execute_result"
    }
   ],
   "source": [
    "exp(1.2)    # wartość dokładna"
   ]
  },
  {
   "cell_type": "code",
   "execution_count": 111,
   "metadata": {},
   "outputs": [
    {
     "data": {
      "text/plain": [
       "1×6 Array{Float64,2}:\n",
       " 0.0378266  0.40681  0.0483742  68.9927  0.157182  0.0"
      ]
     },
     "execution_count": 111,
     "metadata": {},
     "output_type": "execute_result"
    }
   ],
   "source": [
    "relative_errors(x -> exp(x), x -> exp(x), nodes_2, nodes_1, nodes_01, 1.2)"
   ]
  },
  {
   "cell_type": "markdown",
   "metadata": {},
   "source": [
    "#### 𝛑"
   ]
  },
  {
   "cell_type": "code",
   "execution_count": 112,
   "metadata": {},
   "outputs": [
    {
     "data": {
      "text/plain": [
       "1×6 Array{Float64,2}:\n",
       " 23.6045  34.5126  23.3458  74.7069  23.2431  23.1407"
      ]
     },
     "execution_count": 112,
     "metadata": {},
     "output_type": "execute_result"
    }
   ],
   "source": [
    "test_nodes(x -> exp(x), nodes_2, nodes_1, nodes_01, pi)"
   ]
  },
  {
   "cell_type": "code",
   "execution_count": 113,
   "metadata": {},
   "outputs": [
    {
     "data": {
      "text/html": [
       "23.140692632779267"
      ],
      "text/plain": [
       "23.140692632779267"
      ]
     },
     "execution_count": 113,
     "metadata": {},
     "output_type": "execute_result"
    }
   ],
   "source": [
    "exp(pi)    # wartość dokładna"
   ]
  },
  {
   "cell_type": "code",
   "execution_count": 114,
   "metadata": {},
   "outputs": [
    {
     "data": {
      "text/plain": [
       "1×6 Array{Float64,2}:\n",
       " 0.020045  0.491425  0.00886302  2.22838  0.00442462  1.53527e-16"
      ]
     },
     "execution_count": 114,
     "metadata": {},
     "output_type": "execute_result"
    }
   ],
   "source": [
    "relative_errors(x -> exp(x), x -> exp(x), nodes_2, nodes_1, nodes_01, pi)"
   ]
  },
  {
   "cell_type": "markdown",
   "metadata": {},
   "source": [
    "#### 30"
   ]
  },
  {
   "cell_type": "code",
   "execution_count": 115,
   "metadata": {},
   "outputs": [
    {
     "data": {
      "text/html": [
       "1.0686656306673238e13"
      ],
      "text/plain": [
       "1.0686656306673238e13"
      ]
     },
     "execution_count": 115,
     "metadata": {},
     "output_type": "execute_result"
    }
   ],
   "source": [
    "approx_derivate(x -> exp(x), linspace(29, 31, 100), 30)"
   ]
  },
  {
   "cell_type": "code",
   "execution_count": 116,
   "metadata": {
    "scrolled": true
   },
   "outputs": [
    {
     "data": {
      "text/html": [
       "-3.288454563525524e197"
      ],
      "text/plain": [
       "-3.288454563525524e197"
      ]
     },
     "execution_count": 116,
     "metadata": {},
     "output_type": "execute_result"
    }
   ],
   "source": [
    "newton_derivate(x -> exp(x), linspace(29, 31, 100), 30)"
   ]
  },
  {
   "cell_type": "code",
   "execution_count": 117,
   "metadata": {},
   "outputs": [
    {
     "data": {
      "text/html": [
       "1.0686474581524463e13"
      ],
      "text/plain": [
       "1.0686474581524463e13"
      ]
     },
     "execution_count": 117,
     "metadata": {},
     "output_type": "execute_result"
    }
   ],
   "source": [
    "exp(30)    # wartość dokładna"
   ]
  },
  {
   "cell_type": "code",
   "execution_count": 118,
   "metadata": {},
   "outputs": [
    {
     "ename": "LoadError",
     "evalue": "\u001b[91msyntax: incomplete: premature end of input\u001b[39m",
     "output_type": "error",
     "traceback": [
      "\u001b[91msyntax: incomplete: premature end of input\u001b[39m",
      "",
      "Stacktrace:",
      " [1] \u001b[1minclude_string\u001b[22m\u001b[22m\u001b[1m(\u001b[22m\u001b[22m::String, ::String\u001b[1m)\u001b[22m\u001b[22m at \u001b[1m./loading.jl:515\u001b[22m\u001b[22m"
     ]
    }
   ],
   "source": [
    "abs((1.0686656306673238e13 - exp(30)) / exp(30))^"
   ]
  },
  {
   "cell_type": "markdown",
   "metadata": {},
   "source": [
    "#### dla funkcji f(x) = 2*(x + 1)*(x - 3)"
   ]
  },
  {
   "cell_type": "code",
   "execution_count": 119,
   "metadata": {
    "collapsed": true
   },
   "outputs": [],
   "source": [
    "f(x) = 2*(x + 1) * (x - 3);\n",
    "p(x) = 4*x - 4;    # pochodna funkcji f"
   ]
  },
  {
   "cell_type": "markdown",
   "metadata": {},
   "source": [
    "#### 1"
   ]
  },
  {
   "cell_type": "code",
   "execution_count": 120,
   "metadata": {},
   "outputs": [
    {
     "data": {
      "text/plain": [
       "1×6 Array{Float64,2}:\n",
       " 0.0  -2.0  -0.2  0.0  0.0  4.2648e-61"
      ]
     },
     "execution_count": 120,
     "metadata": {},
     "output_type": "execute_result"
    }
   ],
   "source": [
    "test_nodes(x -> 2 * (x + 1) * (x - 3), nodes_2, nodes_1, nodes_01, 1)"
   ]
  },
  {
   "cell_type": "code",
   "execution_count": 121,
   "metadata": {},
   "outputs": [
    {
     "data": {
      "text/html": [
       "0"
      ],
      "text/plain": [
       "0"
      ]
     },
     "execution_count": 121,
     "metadata": {},
     "output_type": "execute_result"
    }
   ],
   "source": [
    "p(1)    # wartość dokładna"
   ]
  },
  {
   "cell_type": "code",
   "execution_count": 123,
   "metadata": {
    "collapsed": true
   },
   "outputs": [],
   "source": [
    "# liczenie błędów względnych wymagałoby dzielenia przez 0"
   ]
  },
  {
   "cell_type": "markdown",
   "metadata": {},
   "source": [
    "#### 5.123"
   ]
  },
  {
   "cell_type": "code",
   "execution_count": 124,
   "metadata": {},
   "outputs": [
    {
     "data": {
      "text/plain": [
       "1×6 Array{Float64,2}:\n",
       " 16.0  18.0  16.6  16.492  16.492  16.492"
      ]
     },
     "execution_count": 124,
     "metadata": {},
     "output_type": "execute_result"
    }
   ],
   "source": [
    "test_nodes(x-> 2 * (x + 1) * (x - 3), nodes_2, nodes_1, nodes_01, 5.123)"
   ]
  },
  {
   "cell_type": "code",
   "execution_count": 125,
   "metadata": {},
   "outputs": [
    {
     "data": {
      "text/html": [
       "16.492"
      ],
      "text/plain": [
       "16.492"
      ]
     },
     "execution_count": 125,
     "metadata": {},
     "output_type": "execute_result"
    }
   ],
   "source": [
    "p(5.123)"
   ]
  },
  {
   "cell_type": "code",
   "execution_count": 126,
   "metadata": {},
   "outputs": [
    {
     "data": {
      "text/plain": [
       "1×6 Array{Float64,2}:\n",
       " 0.0298326  0.0914383  0.00654863  0.0  0.0  0.0"
      ]
     },
     "execution_count": 126,
     "metadata": {},
     "output_type": "execute_result"
    }
   ],
   "source": [
    "relative_errors(x -> 4 * x - 4, x -> 2 * (x + 1) * (x - 3) , nodes_2, nodes_1, nodes_01, 5.123)"
   ]
  },
  {
   "cell_type": "markdown",
   "metadata": {},
   "source": [
    "#### 9.9"
   ]
  },
  {
   "cell_type": "code",
   "execution_count": 127,
   "metadata": {
    "scrolled": true
   },
   "outputs": [
    {
     "data": {
      "text/plain": [
       "1×6 Array{Float64,2}:\n",
       " 32.0  34.0  35.8  35.6  35.6  35.6"
      ]
     },
     "execution_count": 127,
     "metadata": {},
     "output_type": "execute_result"
    }
   ],
   "source": [
    "test_nodes(x-> 2 * (x + 1) * (x - 3), nodes_2, nodes_1, nodes_01, 9.9)"
   ]
  },
  {
   "cell_type": "code",
   "execution_count": 128,
   "metadata": {},
   "outputs": [
    {
     "data": {
      "text/html": [
       "35.6"
      ],
      "text/plain": [
       "35.6"
      ]
     },
     "execution_count": 128,
     "metadata": {},
     "output_type": "execute_result"
    }
   ],
   "source": [
    "4 * 9.9 - 4    # wartość dokładna"
   ]
  },
  {
   "cell_type": "code",
   "execution_count": 129,
   "metadata": {},
   "outputs": [
    {
     "data": {
      "text/plain": [
       "1×6 Array{Float64,2}:\n",
       " 0.101124  0.0449438  0.00561798  0.0  0.0  0.0"
      ]
     },
     "execution_count": 129,
     "metadata": {},
     "output_type": "execute_result"
    }
   ],
   "source": [
    "relative_errors(x -> 4 * x - 4, x -> 2 * (x + 1) * (x - 3) , nodes_2, nodes_1, nodes_01, 9.9)"
   ]
  },
  {
   "cell_type": "markdown",
   "metadata": {},
   "source": [
    "#### dla funkcji f(x) = ln(x), w punktach 0.1, 1"
   ]
  },
  {
   "cell_type": "markdown",
   "metadata": {},
   "source": [
    "#### 0.1"
   ]
  },
  {
   "cell_type": "code",
   "execution_count": 130,
   "metadata": {},
   "outputs": [
    {
     "data": {
      "text/plain": [
       "1×6 Array{Float64,2}:\n",
       " Inf  Inf  6.93147  NaN  NaN  NaN"
      ]
     },
     "execution_count": 130,
     "metadata": {},
     "output_type": "execute_result"
    }
   ],
   "source": [
    "test_nodes(x -> log(x), nodes_2, nodes_1, nodes_01, 0.1)"
   ]
  },
  {
   "cell_type": "code",
   "execution_count": 131,
   "metadata": {},
   "outputs": [
    {
     "data": {
      "text/plain": [
       "1×6 Array{Float64,2}:\n",
       " 1.5328  0.825587  9.53102  2.91226  1.71225  8.08341e200"
      ]
     },
     "execution_count": 131,
     "metadata": {},
     "output_type": "execute_result"
    }
   ],
   "source": [
    "test_nodes(x -> log(x), linspace(0.1, 10, 6), linspac w e(0.5, 10, 6), nodes_001, 0.1)"
   ]
  },
  {
   "cell_type": "code",
   "execution_count": 132,
   "metadata": {},
   "outputs": [
    {
     "data": {
      "text/html": [
       "10.0"
      ],
      "text/plain": [
       "10.0"
      ]
     },
     "execution_count": 132,
     "metadata": {},
     "output_type": "execute_result"
    }
   ],
   "source": [
    "1 / 0.1    # wartość dokładna"
   ]
  },
  {
   "cell_type": "code",
   "execution_count": 133,
   "metadata": {},
   "outputs": [
    {
     "data": {
      "text/plain": [
       "1×6 Array{Float64,2}:\n",
       " 0.84672  0.917441  0.0468982  0.708774  0.828775  8.08341e199"
      ]
     },
     "execution_count": 133,
     "metadata": {},
     "output_type": "execute_result"
    }
   ],
   "source": [
    "relative_errors(x -> 1/x, x -> log(x) , linspace(0.1, 10, 6), linspace(0.5, 10, 6), nodes_001, 0.1)"
   ]
  },
  {
   "cell_type": "code",
   "execution_count": 136,
   "metadata": {},
   "outputs": [
    {
     "data": {
      "text/plain": [
       "1×6 Array{Float64,2}:\n",
       " 1.5328  0.825587  1.00503  1.51598  1.02121  -1.41582e292"
      ]
     },
     "execution_count": 136,
     "metadata": {},
     "output_type": "execute_result"
    }
   ],
   "source": [
    "test_nodes(x -> log(x), linspace(0.1, 10, 6), linspace(0.5, 10, 6), nodes_001, 1)"
   ]
  },
  {
   "cell_type": "code",
   "execution_count": null,
   "metadata": {
    "collapsed": true
   },
   "outputs": [],
   "source": [
    "1 / 1    # wartość dokładna"
   ]
  },
  {
   "cell_type": "code",
   "execution_count": 135,
   "metadata": {},
   "outputs": [
    {
     "data": {
      "text/plain": [
       "1×6 Array{Float64,2}:\n",
       " 0.532805  0.174413  0.00503359  0.515983  0.0212106  1.41582e292"
      ]
     },
     "execution_count": 135,
     "metadata": {},
     "output_type": "execute_result"
    }
   ],
   "source": [
    "relative_errors(x -> 1/x, x -> log(x) , linspace(0.1, 10, 6), linspace(0.5, 10, 6), nodes_001, 1)"
   ]
  }
 ],
 "metadata": {
  "kernelspec": {
   "display_name": "Julia 0.6.0",
   "language": "julia",
   "name": "julia-0.6"
  },
  "language_info": {
   "file_extension": ".jl",
   "mimetype": "application/julia",
   "name": "julia",
   "version": "0.6.0"
  }
 },
 "nbformat": 4,
 "nbformat_minor": 2
}
