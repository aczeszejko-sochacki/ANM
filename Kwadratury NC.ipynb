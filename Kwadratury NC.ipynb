{
 "cells": [
  {
   "cell_type": "markdown",
   "metadata": {},
   "source": [
    "# Kwadratury NC"
   ]
  },
  {
   "cell_type": "code",
   "execution_count": 10,
   "metadata": {},
   "outputs": [],
   "source": [
    "using Polynomials"
   ]
  },
  {
   "cell_type": "markdown",
   "metadata": {},
   "source": [
    "## Obliczanie całki wielomianu"
   ]
  },
  {
   "cell_type": "code",
   "execution_count": 11,
   "metadata": {
    "collapsed": true
   },
   "outputs": [],
   "source": [
    "function poly_integer(coeffs)\n",
    "    poly_int = Poly([0])\n",
    "    d = length(coeffs)\n",
    "    \n",
    "    for i in 1:d\n",
    "        poly_int += Poly(push!(zeros(i), coeffs[i]/i))\n",
    "    end\n",
    "    \n",
    "    return poly_int\n",
    "end;"
   ]
  },
  {
   "cell_type": "code",
   "execution_count": 12,
   "metadata": {},
   "outputs": [
    {
     "data": {
      "text/html": [
       "5.0&#8729;x &#43; 1.5&#8729;x^2 &#43; 1.25&#8729;x^4 &#43; 2.0&#8729;x^5"
      ],
      "text/plain": [
       "Poly(5.0*x + 1.5*x^2 + 1.25*x^4 + 2.0*x^5)"
      ]
     },
     "execution_count": 12,
     "metadata": {},
     "output_type": "execute_result"
    }
   ],
   "source": [
    "poly_integer([5, 3, 0, 5, 10])"
   ]
  },
  {
   "cell_type": "markdown",
   "metadata": {},
   "source": [
    "## Obliczanie kwadratury NC dla funkcji f w n węzłach w przedziale [a, b]"
   ]
  },
  {
   "cell_type": "markdown",
   "metadata": {},
   "source": [
    "### Obliczanie wektora współczynników kwadratury"
   ]
  },
  {
   "cell_type": "code",
   "execution_count": 18,
   "metadata": {
    "collapsed": true
   },
   "outputs": [],
   "source": [
    "function quad_coeffs(a, b, n)\n",
    "    nodes = linspace(a, b, n+1)\n",
    "    h = (b - a) / n\n",
    "    A = []\n",
    "    \n",
    "    for k in 0:n\n",
    "        factorials = h*(-1)^(n-k)/(factorial(k)*factorial(n - k))\n",
    "        poly_node_coeffs = coeffs(poly(deleteat!(collect(0:n), k+1)))\n",
    "        integer = poly_integer(poly_node_coeffs)(n) - poly_integer(poly_node_coeffs)(0)\n",
    "        push!(A, factorials*integer)\n",
    "    end\n",
    "    \n",
    "    return A\n",
    "end;"
   ]
  },
  {
   "cell_type": "code",
   "execution_count": 19,
   "metadata": {},
   "outputs": [
    {
     "data": {
      "text/plain": [
       "2-element Array{Any,1}:\n",
       " 4.0\n",
       " 4.0"
      ]
     },
     "execution_count": 19,
     "metadata": {},
     "output_type": "execute_result"
    }
   ],
   "source": [
    "quad_coeffs(-4, 4, 1)"
   ]
  },
  {
   "cell_type": "markdown",
   "metadata": {},
   "source": [
    "## Ostateczne wyliczenie kwadratury NC"
   ]
  },
  {
   "cell_type": "code",
   "execution_count": 15,
   "metadata": {
    "collapsed": true
   },
   "outputs": [],
   "source": [
    "function quad_nc(f, a, b, n)\n",
    "    values = map(f, linspace(a, b, n+1))\n",
    "    \n",
    "    return dot(values, quad_coeffs(a, b, n))\n",
    "end;"
   ]
  },
  {
   "cell_type": "code",
   "execution_count": 36,
   "metadata": {
    "scrolled": true
   },
   "outputs": [
    {
     "name": "stdout",
     "output_type": "stream",
     "text": [
      "value: 5.490196078431373  error2.8385607510953075\n",
      "value: 2.277647058823525  error0.37398826851253997\n",
      "value: 3.3287981274702196  error0.6771628001341545\n",
      "value: 1.941094304401155  error0.7105410229349101\n",
      "value: 3.595560399360424  error0.943925072024359\n"
     ]
    }
   ],
   "source": [
    "for i ∈ 1:5 \n",
    "    println(\"value: \", quad_nc(x -> 1 / (1 + x^2), -4, 4, 2i), \"  error\", abs(quad_nc(x -> 1 / (1 + x^2), -4, 4, 2i)-2atan(4)))\n",
    "end"
   ]
  },
  {
   "cell_type": "code",
   "execution_count": 17,
   "metadata": {},
   "outputs": [
    {
     "data": {
      "text/html": [
       "2.651635327336065"
      ],
      "text/plain": [
       "2.651635327336065"
      ]
     },
     "execution_count": 17,
     "metadata": {},
     "output_type": "execute_result"
    }
   ],
   "source": [
    "2atan(4)"
   ]
  }
 ],
 "metadata": {
  "kernelspec": {
   "display_name": "Julia 0.6.0",
   "language": "julia",
   "name": "julia-0.6"
  },
  "language_info": {
   "file_extension": ".jl",
   "mimetype": "application/julia",
   "name": "julia",
   "version": "0.6.0"
  }
 },
 "nbformat": 4,
 "nbformat_minor": 2
}
